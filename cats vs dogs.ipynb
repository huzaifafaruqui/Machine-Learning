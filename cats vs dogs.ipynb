{
 "cells": [
  {
   "cell_type": "code",
   "execution_count": 1,
   "metadata": {
    "collapsed": false
   },
   "outputs": [],
   "source": [
    "%matplotlib inline\n",
    "import numpy as np\n",
    "import matplotlib.pyplot as plt \n",
    "from IPython.display import display\n",
    "import tensorflow as tf\n",
    "from tqdm import tqdm\n",
    "from random import shuffle"
   ]
  },
  {
   "cell_type": "code",
   "execution_count": 2,
   "metadata": {
    "collapsed": false
   },
   "outputs": [],
   "source": [
    "import tflearn\n",
    "from tflearn.layers.conv import conv_2d, max_pool_2d\n",
    "from tflearn.layers.core import input_data, dropout, fully_connected\n",
    "from tflearn.layers.estimator import regression\n"
   ]
  },
  {
   "cell_type": "code",
   "execution_count": 3,
   "metadata": {
    "collapsed": true
   },
   "outputs": [],
   "source": [
    "from PIL import Image\n",
    "from __future__ import print_function\n",
    "from os import listdir\n",
    "\n",
    "\n",
    "import os\n"
   ]
  },
  {
   "cell_type": "code",
   "execution_count": 4,
   "metadata": {
    "collapsed": true
   },
   "outputs": [],
   "source": [
    "def label_image(img):\n",
    "    word_label = img.split('.')[-3]\n",
    "    if word_label =='cat' : return [1,0]\n",
    "    elif word_label == 'dog' : return [0,1]"
   ]
  },
  {
   "cell_type": "code",
   "execution_count": 5,
   "metadata": {
    "collapsed": false
   },
   "outputs": [],
   "source": [
    "def load_images_new(path,height=None,width=None):\n",
    "    train_images = []\n",
    "    for i in tqdm(listdir(path)):   \n",
    "        img = Image.open(path+'/'+i)\n",
    "        label = label_image(i)\n",
    "        if height is not None and width is not None:\n",
    "            img = img.resize([width,height])\n",
    "        img = np.array(img).astype('float32')\n",
    "        train_images.append([img,np.array(label)])\n",
    "    shuffle(train_images)\n",
    "    return train_images"
   ]
  },
  {
   "cell_type": "code",
   "execution_count": 6,
   "metadata": {
    "collapsed": false
   },
   "outputs": [
    {
     "name": "stderr",
     "output_type": "stream",
     "text": [
      "100%|██████████| 12/12 [00:00<00:00, 172.29it/s]\n"
     ]
    }
   ],
   "source": [
    "#path1 = '/home/abhishek/Desktop/training'\n",
    "#path2 = '/home/abhishek/Desktop/testing'\n",
    "path='/home/huzaifa/ml/cats vs dogs/small'\n",
    "height,width=100,100\n",
    "train =load_images_new(path,height,width)\n",
    "#train"
   ]
  },
  {
   "cell_type": "code",
   "execution_count": 7,
   "metadata": {
    "collapsed": true
   },
   "outputs": [],
   "source": [
    "#parameters\n",
    "learn = 0.001"
   ]
  },
  {
   "cell_type": "code",
   "execution_count": 8,
   "metadata": {
    "collapsed": false
   },
   "outputs": [],
   "source": [
    "\n",
    "convnet = input_data(shape=[None,height,width,3],name='input')\n",
    "\n",
    "convnet = conv_2d(convnet, 32, 5, activation='relu')\n",
    "convnet = max_pool_2d(convnet, 5)\n",
    "\n",
    "convnet = conv_2d(convnet, 64, 5, activation='relu')\n",
    "convnet = max_pool_2d(convnet, 5)\n",
    "\n",
    "convnet = fully_connected(convnet, 1024, activation='relu')\n",
    "convnet = dropout(convnet, 0.8)\n",
    "\n",
    "convnet = fully_connected(convnet, 2, activation='softmax')\n",
    "convnet = regression(convnet, optimizer='adam', learning_rate=learn, loss='categorical_crossentropy', name='target')\n",
    "\n",
    "model = tflearn.DNN(convnet, tensorboard_dir='log')"
   ]
  },
  {
   "cell_type": "code",
   "execution_count": 9,
   "metadata": {
    "collapsed": false
   },
   "outputs": [],
   "source": [
    "MODEL_NAME = 'dogs v cats using convNet with learn rate {}'.format(learn)\n",
    "if os.path.exists('{}.meta'.format(MODEL_NAME)):\n",
    "    model.load(MODEL_NAME)\n",
    "    print('model loaded')\n",
    "    "
   ]
  },
  {
   "cell_type": "code",
   "execution_count": 10,
   "metadata": {
    "collapsed": false
   },
   "outputs": [],
   "source": [
    "train_x = train[:-6]\n",
    "test_x  = train[-6:]"
   ]
  },
  {
   "cell_type": "code",
   "execution_count": 11,
   "metadata": {
    "collapsed": false
   },
   "outputs": [],
   "source": [{
 "cells": [
  {
   "cell_type": "code",
   "execution_count": 1,
   "metadata": {
    "collapsed": false
   },
   "outputs": [],
   "source": [
    "%matplotlib inline\n",
    "import numpy as np\n",
    "import matplotlib.pyplot as plt \n",
    "from IPython.display import display\n",
    "import tensorflow as tf\n",
    "from tqdm import tqdm\n",
    "from random import shuffle"
   ]
  },
  {
   "cell_type": "code",
   "execution_count": 2,
   "metadata": {
    "collapsed": false
   },
   "outputs": [],
   "source": [
    "import tflearn\n",
    "from tflearn.layers.conv import conv_2d, max_pool_2d\n",
    "from tflearn.layers.core import input_data, dropout, fully_connected\n",
    "from tflearn.layers.estimator import regression\n"
   ]
  },
  {
   "cell_type": "code",
   "execution_count": 3,
   "metadata": {
    "collapsed": true
   },
   "outputs": [],
   "source": [
    "from PIL import Image\n",
    "from __future__ import print_function\n",
    "from os import listdir\n",
    "\n",
    "\n",
    "import os\n"
   ]
  },
  {
   "cell_type": "code",
   "execution_count": 4,
   "metadata": {
    "collapsed": true
   },
   "outputs": [],
   "source": [
    "def label_image(img):\n",
    "    word_label = img.split('.')[-3]\n",
    "    if word_label =='cat' : return [1,0]\n",
    "    elif word_label == 'dog' : return [0,1]"
   ]
  },
  {
   "cell_type": "code",
   "execution_count": 5,
   "metadata": {
    "collapsed": false
   },
   "outputs": [],
   "source": [
    "def load_images_new(path,height=None,width=None):\n",
    "    train_images = []\n",
    "    for i in tqdm(listdir(path)):   \n",
    "        img = Image.open(path+'/'+i)\n",
    "        label = label_image(i)\n",
    "        if height is not None and width is not None:\n",
    "            img = img.resize([width,height])\n",
    "        img = np.array(img).astype('float32')\n",
    "        train_images.append([img,np.array(label)])\n",
    "    shuffle(train_images)\n",
    "    return train_images"
   ]
  },
  {
   "cell_type": "code",
   "execution_count": 6,
   "metadata": {
    "collapsed": false
   },
   "outputs": [
    {
     "name": "stderr",
     "output_type": "stream",
     "text": [
      "100%|██████████| 12/12 [00:00<00:00, 172.29it/s]\n"
     ]
    }
   ],
   "source": [
    "#path1 = '/home/abhishek/Desktop/training'\n",
    "#path2 = '/home/abhishek/Desktop/testing'\n",
    "path='/home/huzaifa/ml/cats vs dogs/small'\n",
    "height,width=100,100\n",
    "train =load_images_new(path,height,width)\n",
    "#train"
   ]
  },
  {
   "cell_type": "code",
   "execution_count": 7,
   "metadata": {
    "collapsed": true
   },
   "outputs": [],
   "source": [
    "#parameters\n",
    "learn = 0.001"
   ]
  },
  {
   "cell_type": "code",
   "execution_count": 8,
   "metadata": {
    "collapsed": false
   },
   "outputs": [],
   "source": [
    "\n",
    "convnet = input_data(shape=[None,height,width,3],name='input')\n",
    "\n",
    "convnet = conv_2d(convnet, 32, 5, activation='relu')\n",
    "convnet = max_pool_2d(convnet, 5)\n",
    "\n",
    "convnet = conv_2d(convnet, 64, 5, activation='relu')\n",
    "convnet = max_pool_2d(convnet, 5)\n",
    "\n",
    "convnet = fully_connected(convnet, 1024, activation='relu')\n",
    "convnet = dropout(convnet, 0.8)\n",
    "\n",
    "convnet = fully_connected(convnet, 2, activation='softmax')\n",
    "convnet = regression(convnet, optimizer='adam', learning_rate=learn, loss='categorical_crossentropy', name='target')\n",
    "\n",
    "model = tflearn.DNN(convnet, tensorboard_dir='log')"
   ]
  },
  {
   "cell_type": "code",
   "execution_count": 9,
   "metadata": {
    "collapsed": false
   },
   "outputs": [],
   "source": [
    "MODEL_NAME = 'dogs v cats using convNet with learn rate {}'.format(learn)\n",
    "if os.path.exists('{}.meta'.format(MODEL_NAME)):\n",
    "    model.load(MODEL_NAME)\n",
    "    print('model loaded')\n",
    "    "
   ]
  },
  {
   "cell_type": "code",
   "execution_count": 10,
   "metadata": {
    "collapsed": false
   },
   "outputs": [],
   "source": [
    "train_x = train[:-6]\n",
    "test_x  = train[-6:]"
   ]
  },
  {
   "cell_type": "code",
   "execution_count": 11,
   "metadata": {
    "collapsed": false
   },
   "outputs": [],
   "source": [
    "X = np.array([i[0] for i in train_x]).reshape(-1,height,width,3)\n",
    "Y = [i[1] for i in train_x]\n",
    "\n",
    "X_ = np.array([i[0] for i in test_x]).reshape(-1,height,width,3)\n",
    "Y_ = [i[1] for i in test_x]"
   ]
  },
  {
   "cell_type": "code",
   "execution_count": null,
   "metadata": {
    "collapsed": false
   },
   "outputs": [],
   "source": []
  },
  {
   "cell_type": "code",
   "execution_count": 12,
   "metadata": {
    "collapsed": false,
    "scrolled": true
   },
   "outputs": [
    {
     "data": {
      "text/plain": [
       "(6, 100, 100, 3)"
      ]
     },
     "execution_count": 12,
     "metadata": {},
     "output_type": "execute_result"
    }
   ],
   "source": [
    "X.shape"
   ]
  },
  {
   "cell_type": "code",
   "execution_count": 13,
   "metadata": {
    "collapsed": false
   },
   "outputs": [
    {
     "name": "stdout",
     "output_type": "stream",
     "text": [
      "---------------------------------\n",
      "Run id: dogs v cats using convNet with learn rate 0.001\n",
      "Log directory: log/\n",
      "INFO:tensorflow:Summary name Accuracy/ (raw) is illegal; using Accuracy/__raw_ instead.\n",
      "---------------------------------\n",
      "Training samples: 6\n",
      "Validation samples: 6\n",
      "--\n",
      "Training Step: 1  | time: 1.755s\n",
      "| Adam | epoch: 001 | loss: 0.00000 - acc: 0.0000 | val_loss: 19.18821 - val_acc: 0.1667 -- iter: 6/6\n",
      "--\n",
      "Training Step: 2  | total loss: \u001b[1m\u001b[32m4.94910\u001b[0m\u001b[0m | time: 1.210s\n",
      "| Adam | epoch: 002 | loss: 4.94910 - acc: 0.6000 | val_loss: 19.18821 - val_acc: 0.1667 -- iter: 6/6\n",
      "--\n",
      "Training Step: 3  | total loss: \u001b[1m\u001b[32m4.03973\u001b[0m\u001b[0m | time: 1.199s\n",
      "| Adam | epoch: 003 | loss: 4.03973 - acc: 0.7909 | val_loss: 19.18821 - val_acc: 0.1667 -- iter: 6/6\n",
      "--\n"
     ]
    }
   ],
   "source": [
    "# run it\n",
    "model.fit({'input': X},{'target': Y}, n_epoch=3, validation_set=({'input': X_},{'target': Y_}),\n",
    "         snapshot_step=1, show_metric=True, run_id=MODEL_NAME)\n"
   ]
  },
  {
   "cell_type": "code",
   "execution_count": null,
   "metadata": {
    "collapsed": true
   },
   "outputs": [],
   "source": []
  }
 ],
 "metadata": {
  "anaconda-cloud": {},
  "kernelspec": {
   "display_name": "Python [default]",
   "language": "python",
   "name": "python2"
  },
  "language_info": {
   "codemirror_mode": {
    "name": "ipython",
    "version": 2
   },
   "file_extension": ".py",
   "mimetype": "text/x-python",
   "name": "python",
   "nbconvert_exporter": "python",
   "pygments_lexer": "ipython2",
   "version": "2.7.12"
  }
 },
 "nbformat": 4,
 "nbformat_minor": 2
}
    "X = np.array([i[0] for i in train_x]).reshape(-1,height,width,3)\n",
    "Y = [i[1] for i in train_x]\n",
    "\n",
    "X_ = np.array([i[0] for i in test_x]).reshape(-1,height,width,3)\n",
    "Y_ = [i[1] for i in test_x]"
   ]
  },
  {
   "cell_type": "code",
   "execution_count": null,
   "metadata": {
    "collapsed": false
   },
   "outputs": [],
   "source": []
  },
  {
   "cell_type": "code",
   "execution_count": 12,
   "metadata": {
    "collapsed": false,
    "scrolled": true
   },
   "outputs": [
    {
     "data": {
      "text/plain": [
       "(6, 100, 100, 3)"
      ]
     },
     "execution_count": 12,
     "metadata": {},
     "output_type": "execute_result"
    }
   ],
   "source": [
    "X.shape"
   ]
  },
  {
   "cell_type": "code",
   "execution_count": 13,
   "metadata": {
    "collapsed": false
   },
   "outputs": [
    {
     "name": "stdout",
     "output_type": "stream",
     "text": [
      "---------------------------------\n",
      "Run id: dogs v cats using convNet with learn rate 0.001\n",
      "Log directory: log/\n",
      "INFO:tensorflow:Summary name Accuracy/ (raw) is illegal; using Accuracy/__raw_ instead.\n",
      "---------------------------------\n",
      "Training samples: 6\n",
      "Validation samples: 6\n",
      "--\n",
      "Training Step: 1  | time: 1.755s\n",
      "| Adam | epoch: 001 | loss: 0.00000 - acc: 0.0000 | val_loss: 19.18821 - val_acc: 0.1667 -- iter: 6/6\n",
      "--\n",
      "Training Step: 2  | total loss: \u001b[1m\u001b[32m4.94910\u001b[0m\u001b[0m | time: 1.210s\n",
      "| Adam | epoch: 002 | loss: 4.94910 - acc: 0.6000 | val_loss: 19.18821 - val_acc: 0.1667 -- iter: 6/6\n",
      "--\n",
      "Training Step: 3  | total loss: \u001b[1m\u001b[32m4.03973\u001b[0m\u001b[0m | time: 1.199s\n",
      "| Adam | epoch: 003 | loss: 4.03973 - acc: 0.7909 | val_loss: 19.18821 - val_acc: 0.1667 -- iter: 6/6\n",
      "--\n"
     ]
    }
   ],
   "source": [
    "# run it\n",
    "model.fit({'input': X},{'target': Y}, n_epoch=3, validation_set=({'input': X_},{'target': Y_}),\n",
    "         snapshot_step=1, show_metric=True, run_id=MODEL_NAME)\n"
   ]
  },
  {
   "cell_type": "code",
   "execution_count": null,
   "metadata": {
    "collapsed": true
   },
   "outputs": [],
   "source": []
  }
 ],
 "metadata": {
  "anaconda-cloud": {},
  "kernelspec": {
   "display_name": "Python [default]",
   "language": "python",
   "name": "python2"
  },
  "language_info": {
   "codemirror_mode": {
    "name": "ipython",
    "version": 2
   },
   "file_extension": ".py",
   "mimetype": "text/x-python",
   "name": "python",
   "nbconvert_exporter": "python",
   "pygments_lexer": "ipython2",
   "version": "2.7.12"
  }
 },
 "nbformat": 4,
 "nbformat_minor": 2
}
